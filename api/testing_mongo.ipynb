{
 "cells": [
  {
   "cell_type": "code",
   "id": "initial_id",
   "metadata": {
    "collapsed": true,
    "ExecuteTime": {
     "end_time": "2025-10-19T19:41:36.309573Z",
     "start_time": "2025-10-19T19:41:34.785016Z"
    }
   },
   "source": [
    "!pip install -r requirements.txt\n",
    "from fastapi import FastAPI, HTTPException\n",
    "from pydantic import BaseModel, Field, ConfigDict\n",
    "from typing import List, Optional\n",
    "from datetime import datetime, time\n",
    "from pymongo import MongoClient\n",
    "from pymongo.errors import ConnectionFailure\n",
    "from bson import ObjectId\n",
    "import os\n",
    "from dotenv import load_dotenv\n",
    "\n",
    "load_dotenv()\n",
    "\n",
    "# --- MongoDB Connection ---\n",
    "MONGO_CONNECTION_STRING = os.getenv(\"connection_string\")\n",
    "\n",
    "if not MONGO_CONNECTION_STRING:\n",
    "    raise RuntimeError(\"MongoDB connection string not found in .env file\")"
   ],
   "outputs": [
    {
     "name": "stdout",
     "output_type": "stream",
     "text": [
      "Requirement already satisfied: fastapi==0.115.0 in c:\\users\\n8tew\\appdata\\local\\programs\\python\\python313\\lib\\site-packages (from -r requirements.txt (line 1)) (0.115.0)\n",
      "Requirement already satisfied: uvicorn==0.32.0 in c:\\users\\n8tew\\appdata\\local\\programs\\python\\python313\\lib\\site-packages (from uvicorn[standard]==0.32.0->-r requirements.txt (line 2)) (0.32.0)\n",
      "Requirement already satisfied: pydantic==2.10.1 in c:\\users\\n8tew\\appdata\\local\\programs\\python\\python313\\lib\\site-packages (from -r requirements.txt (line 3)) (2.10.1)\n",
      "Requirement already satisfied: pymongo==4.10.1 in c:\\users\\n8tew\\appdata\\local\\programs\\python\\python313\\lib\\site-packages (from -r requirements.txt (line 4)) (4.10.1)\n",
      "Requirement already satisfied: python-dotenv==1.0.0 in c:\\users\\n8tew\\appdata\\local\\programs\\python\\python313\\lib\\site-packages (from -r requirements.txt (line 5)) (1.0.0)\n",
      "Requirement already satisfied: starlette<0.39.0,>=0.37.2 in c:\\users\\n8tew\\appdata\\local\\programs\\python\\python313\\lib\\site-packages (from fastapi==0.115.0->-r requirements.txt (line 1)) (0.38.6)\n",
      "Requirement already satisfied: typing-extensions>=4.8.0 in c:\\users\\n8tew\\appdata\\local\\programs\\python\\python313\\lib\\site-packages (from fastapi==0.115.0->-r requirements.txt (line 1)) (4.15.0)\n",
      "Requirement already satisfied: annotated-types>=0.6.0 in c:\\users\\n8tew\\appdata\\local\\programs\\python\\python313\\lib\\site-packages (from pydantic==2.10.1->-r requirements.txt (line 3)) (0.7.0)\n",
      "Requirement already satisfied: pydantic-core==2.27.1 in c:\\users\\n8tew\\appdata\\local\\programs\\python\\python313\\lib\\site-packages (from pydantic==2.10.1->-r requirements.txt (line 3)) (2.27.1)\n",
      "Requirement already satisfied: click>=7.0 in c:\\users\\n8tew\\appdata\\local\\programs\\python\\python313\\lib\\site-packages (from uvicorn==0.32.0->uvicorn[standard]==0.32.0->-r requirements.txt (line 2)) (8.3.0)\n",
      "Requirement already satisfied: h11>=0.8 in c:\\users\\n8tew\\appdata\\local\\programs\\python\\python313\\lib\\site-packages (from uvicorn==0.32.0->uvicorn[standard]==0.32.0->-r requirements.txt (line 2)) (0.16.0)\n",
      "Requirement already satisfied: dnspython<3.0.0,>=1.16.0 in c:\\users\\n8tew\\appdata\\local\\programs\\python\\python313\\lib\\site-packages (from pymongo==4.10.1->-r requirements.txt (line 4)) (2.8.0)\n",
      "Requirement already satisfied: colorama>=0.4 in c:\\users\\n8tew\\appdata\\local\\programs\\python\\python313\\lib\\site-packages (from uvicorn[standard]==0.32.0->-r requirements.txt (line 2)) (0.4.6)\n",
      "Requirement already satisfied: httptools>=0.5.0 in c:\\users\\n8tew\\appdata\\local\\programs\\python\\python313\\lib\\site-packages (from uvicorn[standard]==0.32.0->-r requirements.txt (line 2)) (0.7.1)\n",
      "Requirement already satisfied: pyyaml>=5.1 in c:\\users\\n8tew\\appdata\\local\\programs\\python\\python313\\lib\\site-packages (from uvicorn[standard]==0.32.0->-r requirements.txt (line 2)) (6.0.3)\n",
      "Requirement already satisfied: watchfiles>=0.13 in c:\\users\\n8tew\\appdata\\local\\programs\\python\\python313\\lib\\site-packages (from uvicorn[standard]==0.32.0->-r requirements.txt (line 2)) (1.1.1)\n",
      "Requirement already satisfied: websockets>=10.4 in c:\\users\\n8tew\\appdata\\local\\programs\\python\\python313\\lib\\site-packages (from uvicorn[standard]==0.32.0->-r requirements.txt (line 2)) (15.0.1)\n",
      "Requirement already satisfied: anyio<5,>=3.4.0 in c:\\users\\n8tew\\appdata\\local\\programs\\python\\python313\\lib\\site-packages (from starlette<0.39.0,>=0.37.2->fastapi==0.115.0->-r requirements.txt (line 1)) (4.11.0)\n",
      "Requirement already satisfied: idna>=2.8 in c:\\users\\n8tew\\appdata\\local\\programs\\python\\python313\\lib\\site-packages (from anyio<5,>=3.4.0->starlette<0.39.0,>=0.37.2->fastapi==0.115.0->-r requirements.txt (line 1)) (3.10)\n",
      "Requirement already satisfied: sniffio>=1.1 in c:\\users\\n8tew\\appdata\\local\\programs\\python\\python313\\lib\\site-packages (from anyio<5,>=3.4.0->starlette<0.39.0,>=0.37.2->fastapi==0.115.0->-r requirements.txt (line 1)) (1.3.1)\n"
     ]
    }
   ],
   "execution_count": 15
  },
  {
   "metadata": {
    "ExecuteTime": {
     "end_time": "2025-10-19T19:41:38.918831Z",
     "start_time": "2025-10-19T19:41:38.486842Z"
    }
   },
   "cell_type": "code",
   "source": [
    "client = MongoClient(MONGO_CONNECTION_STRING)\n",
    "# Test the connection\n",
    "print(client.admin.command('ping'))\n",
    "print(\"Connected to MongoDB successfully!\")\n",
    "\n",
    "# Set up database and collections\n",
    "db = client.main\n",
    "users_collection = db.user\n",
    "summaries_collection = db.summary\n",
    "entries_collection = db.entry"
   ],
   "id": "6dfcc7773d49ef3d",
   "outputs": [
    {
     "name": "stdout",
     "output_type": "stream",
     "text": [
      "{'ok': 1}\n",
      "Connected to MongoDB successfully!\n"
     ]
    }
   ],
   "execution_count": 16
  },
  {
   "metadata": {
    "ExecuteTime": {
     "end_time": "2025-10-19T19:41:40.274893Z",
     "start_time": "2025-10-19T19:41:40.212434Z"
    }
   },
   "cell_type": "code",
   "source": [
    "for i in db.list_collections():\n",
    "    print(i)\n",
    "\n",
    "for i in entries_collection.find():\n",
    "    print(i)"
   ],
   "id": "73e784c78c1bbf35",
   "outputs": [
    {
     "name": "stdout",
     "output_type": "stream",
     "text": [
      "{'name': 'summary', 'type': 'collection', 'options': {}, 'info': {'readOnly': False, 'uuid': Binary(b'\\x92P\\xff@\\xc9\\x9bF|\\xa3\\xd2BF\\x0e\\xd3\\xb6(', 4)}, 'idIndex': {'v': 2, 'key': {'_id': 1}, 'name': '_id_'}}\n",
      "{'name': 'user', 'type': 'collection', 'options': {}, 'info': {'readOnly': False, 'uuid': Binary(b'\\xe5W\\x80p \\xebL9\\x9f\\xfe\\x93\\x80\\x13(ZC', 4)}, 'idIndex': {'v': 2, 'key': {'_id': 1}, 'name': '_id_'}}\n",
      "{'name': 'entry', 'type': 'collection', 'options': {}, 'info': {'readOnly': False, 'uuid': Binary(b'\\xf7%s\\x80\\x9bxEF\\xbfZ\\x18\\x80\\x1b\\xc1n)', 4)}, 'idIndex': {'v': 2, 'key': {'_id': 1}, 'name': '_id_'}}\n",
      "{'_id': ObjectId('68f51b25c769f1cddfef79bf'), 'userId': '123456789012345678', 'timestamp': '2025-10-19T10:15:00Z', 'content': 'Started working on the Echo backend API endpoints.', 'notes': None, 'role': 'bot'}\n",
      "{'_id': ObjectId('68f53824731cdd48f9a01d9f'), 'userId': '123456789012345678', 'timestamp': '2025-10-19T10:15:00Z', 'content': 'So anyway I started blasting.', 'notes': None, 'role': 'user'}\n"
     ]
    }
   ],
   "execution_count": 17
  }
 ],
 "metadata": {
  "kernelspec": {
   "display_name": "Python 3",
   "language": "python",
   "name": "python3"
  },
  "language_info": {
   "codemirror_mode": {
    "name": "ipython",
    "version": 2
   },
   "file_extension": ".py",
   "mimetype": "text/x-python",
   "name": "python",
   "nbconvert_exporter": "python",
   "pygments_lexer": "ipython2",
   "version": "2.7.6"
  }
 },
 "nbformat": 4,
 "nbformat_minor": 5
}
